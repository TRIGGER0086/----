{
 "cells": [
  {
   "cell_type": "markdown",
   "id": "4a136075",
   "metadata": {},
   "source": [
    "维护当前窗口的的最大值和最小值\n",
    "维护窗口的最值问题，是一个非常经典的问题，归纳出来一种普遍认为比较好用的方法，就是使用单调队列。 因为单调队列保持了队列中元素之间的固有的顺序，同时也维护了单调性。这样，当窗口减小时，我们非常容易知道下一个最值是多少。"
   ]
  },
  {
   "cell_type": "code",
   "execution_count": null,
   "id": "ed4257a8",
   "metadata": {},
   "outputs": [],
   "source": [
    "\"单调队列维护窗口最值\"\n",
    "mx, mn = deque(), deque()\n",
    "for right, x in enumerate(nums):\n",
    "    while mx and mx[-1] < x:\n",
    "        mx.pop()\n",
    "    while mn and mn[-1] > x:\n",
    "        mn.pop()\n",
    "    mx.append(x)\n",
    "    mn.append(x)\n",
    "    while mx[0] - mn[0] > limit:\n",
    "        if mx[0] == nums[left]:\n",
    "            mx.popleft()\n",
    "        if mn[0] == nums[left]:\n",
    "            mn.popleft()\n",
    "        left += 1\n",
    "\"有序列表维护窗口最值\"\n",
    "from sortedcontainers import SortedList\n",
    "sl = SortedList()\n",
    "for right, x in enumerate(nums):\n",
    "    sl.add(x)\n",
    "    while sl[-1] - sl[0] > limit:\n",
    "        sl.remove(nums[left])\n",
    "        left += 1"
   ]
  }
 ],
 "metadata": {
  "language_info": {
   "name": "python"
  }
 },
 "nbformat": 4,
 "nbformat_minor": 5
}
