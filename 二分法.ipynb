{
 "cells": [
  {
   "cell_type": "markdown",
   "id": "277fd797",
   "metadata": {},
   "source": [
    "bisect_left 和 bisect_right"
   ]
  },
  {
   "cell_type": "code",
   "execution_count": null,
   "id": "752d7049",
   "metadata": {},
   "outputs": [],
   "source": [
    "bisect_left(nums, 0)\n",
    "'''\n",
    "在 nums 中查找数字 0\n",
    "如果 0 存在于 nums 中，返回第一个 0 的索引位置\n",
    "如果 0 不存在于 nums 中，返回 0 应该插入的位置索引，以保持列表有序\n",
    "bisect_right (或 bisect) 会返回最右边的位置\n",
    "'''\n",
    "n = len(nums)\n",
    "left, right = -1, n\n",
    "while left + 1 < right:\n",
    "    mid = (left + right) // 2\n",
    "    if nums[mid] < 0:\n",
    "        left = mid\n",
    "    else:\n",
    "        right = mid\n",
    "\n",
    "left + 1 == bisect_left(nums, 0)"
   ]
  }
 ],
 "metadata": {
  "language_info": {
   "name": "python"
  }
 },
 "nbformat": 4,
 "nbformat_minor": 5
}
